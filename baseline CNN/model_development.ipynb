{
 "cells": [
  {
   "cell_type": "code",
   "execution_count": 1,
   "metadata": {},
   "outputs": [],
   "source": [
    "# imports\n",
    "import pandas as pd\n",
    "import numpy as np\n",
    "import wfdb\n",
    "import ast\n",
    "import os\n",
    "import matplotlib.pyplot as plt\n",
    "from tensorflow.keras.models import Sequential, save_model\n",
    "from tensorflow.keras.layers import Conv1D, MaxPooling1D, Flatten, Dense, Conv2D, MaxPooling2D, Reshape, Dropout, BatchNormalization\n",
    "from sklearn.model_selection import train_test_split"
   ]
  },
  {
   "cell_type": "code",
   "execution_count": 2,
   "metadata": {},
   "outputs": [],
   "source": [
    "#Load raw data\n",
    "def load_raw_data(df, sampling_rate, path):\n",
    "    if sampling_rate == 100:\n",
    "        data = [wfdb.rdsamp(path+f) for f in df.filename_lr]\n",
    "    else:\n",
    "        data = [wfdb.rdsamp(path+f) for f in df.filename_hr]\n",
    "    data = np.array([signal for signal, meta in data])\n",
    "    return data\n",
    "\n",
    "path = os.getcwd()+'/'\n",
    "sampling_rate=500\n",
    "\n",
    "# load and convert annotation data\n",
    "Y = pd.read_csv('data/physionet/ptbxl_database.csv', index_col='ecg_id')\n",
    "\n",
    "# only take top x rows\n",
    "#Y = Y.head(18000)\n",
    "Y.scp_codes = Y.scp_codes.apply(lambda x: ast.literal_eval(x))\n",
    "\n",
    "# Load raw signal data\n",
    "X = load_raw_data(Y, sampling_rate, path)"
   ]
  },
  {
   "cell_type": "code",
   "execution_count": 3,
   "metadata": {},
   "outputs": [],
   "source": [
    "# Load scp_statements.csv for diagnostic aggregation\n",
    "agg_df = pd.read_csv('data/physionet/scp_statements.csv', index_col=0)\n",
    "agg_df = agg_df[agg_df.diagnostic == 1]\n",
    "\n",
    "def aggregate_diagnostic(y_dic):\n",
    "    tmp = []\n",
    "    for key in y_dic.keys():\n",
    "        if key in agg_df.index:\n",
    "            tmp.append(agg_df.loc[key].diagnostic_class)\n",
    "    return list(set(tmp))"
   ]
  },
  {
   "cell_type": "code",
   "execution_count": 4,
   "metadata": {},
   "outputs": [],
   "source": [
    "# Apply diagnostic superclass\n",
    "Y['diagnostic_superclass'] = Y.scp_codes.apply(aggregate_diagnostic)\n",
    "\n",
    "# create Y to target superclasses with 'CD' in them\n",
    "y = Y['diagnostic_superclass'].astype(str).str.contains('CD').astype(int)"
   ]
  },
  {
   "cell_type": "code",
   "execution_count": 5,
   "metadata": {},
   "outputs": [
    {
     "name": "stdout",
     "output_type": "stream",
     "text": [
      "[NORM]                 9069\n",
      "[MI]                   2532\n",
      "[STTC]                 2400\n",
      "[CD]                   1708\n",
      "[MI, CD]               1297\n",
      "[STTC, HYP]             781\n",
      "[STTC, MI]              595\n",
      "[HYP]                   535\n",
      "[STTC, CD]              471\n",
      "[]                      411\n",
      "[NORM, CD]              407\n",
      "[STTC, MI, HYP]         358\n",
      "[CD, HYP]               300\n",
      "[STTC, MI, CD]          223\n",
      "[STTC, CD, HYP]         211\n",
      "[MI, HYP]               183\n",
      "[STTC, MI, CD, HYP]     155\n",
      "[MI, CD, HYP]           117\n",
      "[NORM, STTC]             28\n",
      "[NORM, STTC, CD]          5\n",
      "[MI, STTC]                4\n",
      "[MI, STTC, HYP]           3\n",
      "[NORM, CD, HYP]           2\n",
      "[NORM, HYP]               2\n",
      "[MI, STTC, CD, HYP]       1\n",
      "[NORM, MI, CD, HYP]       1\n",
      "Name: diagnostic_superclass, dtype: int64\n"
     ]
    }
   ],
   "source": [
    "print(Y['diagnostic_superclass'].value_counts())"
   ]
  },
  {
   "cell_type": "code",
   "execution_count": null,
   "metadata": {},
   "outputs": [],
   "source": [
    "#Remove records with missing ECGs\n",
    "\n",
    "# Find all records that have at least one missing value in the 12-length arrays\n",
    "missing_values_mask = np.any(np.isnan(X), axis=(1,2)) | np.any(np.apply_along_axis(lambda x: len(x)==0, axis=2, arr=X), axis=1)\n",
    "\n",
    "# Get the indices of the records that have missing values\n",
    "missing_values_indices = np.where(missing_values_mask)[0]\n",
    "data_without_missing_values = X[~missing_values_mask]\n",
    "\n",
    "print(\"Indices of removed records:\", missing_values_indices)\n"
   ]
  },
  {
   "cell_type": "code",
   "execution_count": 6,
   "metadata": {},
   "outputs": [],
   "source": [
    "#filter data using ECGMatrix\n",
    "from filters.ecgMatrix import ecgMatrix\n",
    "\n",
    "ecgm = ecgMatrix(X)\n",
    "X_filtered = ecgm.fit()"
   ]
  },
  {
   "cell_type": "code",
   "execution_count": 7,
   "metadata": {},
   "outputs": [],
   "source": [
    "# Split data into training and testing sets\n",
    "y = y.reset_index(drop=True)\n",
    "\n",
    "X_train_valid, X_test, y_train_valid, y_test = train_test_split(X_filtered, y, test_size=0.2, random_state=42)"
   ]
  },
  {
   "cell_type": "code",
   "execution_count": 8,
   "metadata": {},
   "outputs": [
    {
     "name": "stdout",
     "output_type": "stream",
     "text": [
      "17439\n",
      "17439\n"
     ]
    }
   ],
   "source": [
    "print(len(X_train_valid))\n",
    "print(len(y_train_valid))"
   ]
  },
  {
   "cell_type": "code",
   "execution_count": 9,
   "metadata": {},
   "outputs": [
    {
     "name": "stdout",
     "output_type": "stream",
     "text": [
      "Class 0 makes up 77.72% of the data\n",
      "Class 1 makes up 22.28% of the data\n"
     ]
    }
   ],
   "source": [
    "# Assuming y is a 1D numpy array of class labels\n",
    "classes, counts = np.unique(y_train_valid, return_counts=True)\n",
    "\n",
    "# Print the class distribution as percentages\n",
    "total_samples = len(y_train_valid)\n",
    "for i, c in enumerate(classes):\n",
    "    class_pct = counts[i] / total_samples * 100\n",
    "    print('Class {} makes up {:.2f}% of the data'.format(c, class_pct))"
   ]
  },
  {
   "cell_type": "code",
   "execution_count": 10,
   "metadata": {},
   "outputs": [],
   "source": [
    "y_train_valid = y_train_valid.reset_index(drop=True)\n",
    "class_0_idx = y_train_valid[y_train_valid == 0].index\n",
    "\n",
    "n_samples = 4500\n",
    "sampled_class_0_idx = np.random.choice(class_0_idx, size=n_samples, replace=False)\n",
    "\n",
    "class_1_idx = y_train_valid[y_train_valid == 1].index\n",
    "idx_sampled = np.concatenate([sampled_class_0_idx, class_1_idx])\n",
    "idx_sampled.sort()\n",
    "\n",
    "X_downsampled = X_train_valid[idx_sampled, :]\n",
    "y_downsampled = y_train_valid.iloc[idx_sampled]"
   ]
  },
  {
   "cell_type": "code",
   "execution_count": 11,
   "metadata": {},
   "outputs": [
    {
     "name": "stdout",
     "output_type": "stream",
     "text": [
      "Class 0 makes up 53.67% of the data\n",
      "Class 1 makes up 46.33% of the data\n"
     ]
    }
   ],
   "source": [
    "# Assuming y is a 1D numpy array of class labels\n",
    "classes, counts = np.unique(y_downsampled, return_counts=True)\n",
    "\n",
    "# Print the class distribution as percentages\n",
    "total_samples = len(y_downsampled)\n",
    "for i, c in enumerate(classes):\n",
    "    class_pct = counts[i] / total_samples * 100\n",
    "    print('Class {} makes up {:.2f}% of the data'.format(c, class_pct))"
   ]
  },
  {
   "cell_type": "code",
   "execution_count": 12,
   "metadata": {},
   "outputs": [],
   "source": [
    "# Split data into training and validation sets\n",
    "X_train, X_validation, y_train, y_validation = train_test_split(X_downsampled, y_downsampled, test_size=0.125, random_state=42)"
   ]
  },
  {
   "cell_type": "code",
   "execution_count": 13,
   "metadata": {},
   "outputs": [],
   "source": [
    "# Define model architecture\n",
    "model = Sequential()\n",
    "model.add(Reshape((5000,12,1), input_shape=(5000,12)))\n",
    "model.add(Conv2D(filters=32, kernel_size=(30,6), activation='relu'))\n",
    "model.add(MaxPooling2D(pool_size=(10,2)))\n",
    "model.add(Dropout(0.6))\n",
    "model.add(Conv2D(filters=64, kernel_size=(3,3), activation='relu'))\n",
    "model.add(MaxPooling2D(pool_size=(4,1)))\n",
    "model.add(Dropout(0.6))\n",
    "model.add(Conv2D(filters=16, kernel_size=(4,1), activation='relu'))\n",
    "model.add(MaxPooling2D(pool_size=(2,1)))\n",
    "model.add(Dropout(0.6))\n",
    "model.add(Flatten())\n",
    "model.add(Dense(units=128, activation='relu'))\n",
    "model.add(Dense(1, activation='sigmoid'))"
   ]
  },
  {
   "cell_type": "code",
   "execution_count": 14,
   "metadata": {},
   "outputs": [
    {
     "name": "stdout",
     "output_type": "stream",
     "text": [
      "Epoch 1/20\n"
     ]
    },
    {
     "name": "stderr",
     "output_type": "stream",
     "text": [
      "2023-04-23 14:38:43.705798: W tensorflow/tsl/platform/profile_utils/cpu_utils.cc:128] Failed to get CPU frequency: 0 Hz\n"
     ]
    },
    {
     "name": "stdout",
     "output_type": "stream",
     "text": [
      "29/29 [==============================] - 198s 7s/step - loss: 0.6965 - accuracy: 0.5278 - val_loss: 0.6923 - val_accuracy: 0.5148\n",
      "Epoch 2/20\n",
      "29/29 [==============================] - 193s 7s/step - loss: 0.6863 - accuracy: 0.5581 - val_loss: 0.6881 - val_accuracy: 0.5291\n",
      "Epoch 3/20\n",
      "29/29 [==============================] - 196s 7s/step - loss: 0.6757 - accuracy: 0.5675 - val_loss: 0.6792 - val_accuracy: 0.5415\n",
      "Epoch 4/20\n",
      "29/29 [==============================] - 194s 7s/step - loss: 0.6601 - accuracy: 0.6029 - val_loss: 0.6613 - val_accuracy: 0.5710\n",
      "Epoch 5/20\n",
      "29/29 [==============================] - 198s 7s/step - loss: 0.6264 - accuracy: 0.6604 - val_loss: 0.6324 - val_accuracy: 0.6940\n",
      "Epoch 6/20\n",
      "29/29 [==============================] - 192s 7s/step - loss: 0.6014 - accuracy: 0.6941 - val_loss: 0.5915 - val_accuracy: 0.7159\n",
      "Epoch 7/20\n",
      "29/29 [==============================] - 191s 7s/step - loss: 0.5693 - accuracy: 0.7140 - val_loss: 0.5773 - val_accuracy: 0.7302\n",
      "Epoch 8/20\n",
      "29/29 [==============================] - 191s 7s/step - loss: 0.5420 - accuracy: 0.7385 - val_loss: 0.5600 - val_accuracy: 0.7369\n",
      "Epoch 9/20\n",
      "29/29 [==============================] - 184s 6s/step - loss: 0.5275 - accuracy: 0.7503 - val_loss: 0.5349 - val_accuracy: 0.7512\n",
      "Epoch 10/20\n",
      "29/29 [==============================] - 183s 6s/step - loss: 0.5129 - accuracy: 0.7570 - val_loss: 0.5059 - val_accuracy: 0.7722\n",
      "Epoch 11/20\n",
      "29/29 [==============================] - 183s 6s/step - loss: 0.4884 - accuracy: 0.7739 - val_loss: 0.4928 - val_accuracy: 0.7779\n",
      "Epoch 12/20\n",
      "29/29 [==============================] - 183s 6s/step - loss: 0.4776 - accuracy: 0.7824 - val_loss: 0.4940 - val_accuracy: 0.7855\n",
      "Epoch 13/20\n",
      "29/29 [==============================] - 604s 21s/step - loss: 0.4700 - accuracy: 0.7860 - val_loss: 0.4933 - val_accuracy: 0.7798\n",
      "Epoch 14/20\n",
      "29/29 [==============================] - 187s 6s/step - loss: 0.4636 - accuracy: 0.7916 - val_loss: 0.4582 - val_accuracy: 0.8036\n",
      "Epoch 15/20\n",
      "29/29 [==============================] - 183s 6s/step - loss: 0.4490 - accuracy: 0.7981 - val_loss: 0.4449 - val_accuracy: 0.8227\n",
      "Epoch 16/20\n",
      "29/29 [==============================] - 182s 6s/step - loss: 0.4395 - accuracy: 0.8032 - val_loss: 0.4475 - val_accuracy: 0.8065\n",
      "Epoch 17/20\n",
      "29/29 [==============================] - 188s 6s/step - loss: 0.4368 - accuracy: 0.8048 - val_loss: 0.4405 - val_accuracy: 0.8151\n",
      "Epoch 18/20\n",
      "29/29 [==============================] - 182s 6s/step - loss: 0.4328 - accuracy: 0.8062 - val_loss: 0.4321 - val_accuracy: 0.8132\n",
      "Epoch 19/20\n",
      "29/29 [==============================] - 183s 6s/step - loss: 0.4353 - accuracy: 0.8077 - val_loss: 0.4467 - val_accuracy: 0.8141\n",
      "Epoch 20/20\n",
      "29/29 [==============================] - 186s 6s/step - loss: 0.4305 - accuracy: 0.8079 - val_loss: 0.4373 - val_accuracy: 0.8160\n"
     ]
    },
    {
     "data": {
      "text/plain": [
       "<keras.callbacks.History at 0x145a37640>"
      ]
     },
     "execution_count": 14,
     "metadata": {},
     "output_type": "execute_result"
    }
   ],
   "source": [
    "\n",
    "# Compile the model\n",
    "model.compile(optimizer='adam', loss='binary_crossentropy', metrics=['accuracy'])\n",
    "\n",
    "# Train the model\n",
    "model.fit(X_train, y_train, epochs=20, batch_size=256, validation_data=(X_validation, y_validation))"
   ]
  },
  {
   "cell_type": "code",
   "execution_count": 15,
   "metadata": {},
   "outputs": [
    {
     "name": "stdout",
     "output_type": "stream",
     "text": [
      "137/137 [==============================] - 21s 150ms/step - loss: 0.4281 - accuracy: 0.8206\n",
      "Test accuracy: 0.8206421732902527\n"
     ]
    }
   ],
   "source": [
    "# Evaluate the model on the test set\n",
    "test_loss, test_acc = model.evaluate(X_test, y_test)\n",
    "print('Test accuracy:', test_acc)"
   ]
  },
  {
   "cell_type": "code",
   "execution_count": 18,
   "metadata": {},
   "outputs": [
    {
     "name": "stdout",
     "output_type": "stream",
     "text": [
      "137/137 [==============================] - 21s 149ms/step\n"
     ]
    }
   ],
   "source": [
    "# Use the trained model to make predictions on the test set\n",
    "y_pred = model.predict(X_test)\n",
    "y_pred_classes = (y_pred > 0.55).astype(int)\n",
    "y_test_classes = y_test.values\n",
    "# Print the confusion matrix\n",
    "from sklearn.metrics import confusion_matrix\n",
    "\n",
    "cm = confusion_matrix(y_test_classes, y_pred_classes)"
   ]
  },
  {
   "cell_type": "code",
   "execution_count": 19,
   "metadata": {},
   "outputs": [
    {
     "data": {
      "image/png": "[encoded data removed]",
      "text/plain": [
       "<Figure size 640x480 with 2 Axes>"
      ]
     },
     "metadata": {},
     "output_type": "display_data"
    }
   ],
   "source": [
    "labels = ['Non-CD', 'CD']\n",
    "\n",
    "# Plot the confusion matrix\n",
    "fig, ax = plt.subplots()\n",
    "im = ax.imshow(cm, interpolation='nearest', cmap=plt.cm.Blues)\n",
    "ax.figure.colorbar(im, ax=ax)\n",
    "ax.set(xticks=np.arange(cm.shape[1]),\n",
    "       yticks=np.arange(cm.shape[0]),\n",
    "       xticklabels=labels, yticklabels=labels,\n",
    "       title='Confusion matrix',\n",
    "       ylabel='True label',\n",
    "       xlabel='Predicted label')\n",
    "\n",
    "# Rotate the x-axis labels\n",
    "plt.setp(ax.get_xticklabels(), rotation=45, ha=\"right\",\n",
    "         rotation_mode=\"anchor\")\n",
    "\n",
    "# Loop over the data and create a text annotation for each cell\n",
    "for i in range(cm.shape[0]):\n",
    "    for j in range(cm.shape[1]):\n",
    "        ax.text(j, i, format(cm[i, j], 'd'),\n",
    "                ha=\"center\", va=\"center\",\n",
    "                color=\"white\" if cm[i, j] > cm.max() / 2. else \"black\")\n",
    "fig.tight_layout()\n",
    "plt.show()"
   ]
  },
  {
   "cell_type": "code",
   "execution_count": 22,
   "metadata": {},
   "outputs": [
    {
     "data": {
      "image/png": "[encoded data removed]",
      "text/plain": [
       "<Figure size 640x480 with 1 Axes>"
      ]
     },
     "metadata": {},
     "output_type": "display_data"
    }
   ],
   "source": [
    "# Plot the histogram\n",
    "plt.hist(y_pred, bins=50, density=True, alpha=0.75)\n",
    "\n",
    "# Add axis labels and title\n",
    "plt.xlabel('Value')\n",
    "plt.ylabel('Frequency')\n",
    "plt.title('Histogram Example')\n",
    "\n",
    "# Display the plot\n",
    "plt.show()"
   ]
  },
  {
   "cell_type": "code",
   "execution_count": 20,
   "metadata": {},
   "outputs": [
    {
     "name": "stdout",
     "output_type": "stream",
     "text": [
      "AUC: 0.8734291084736194\n"
     ]
    }
   ],
   "source": [
    "from sklearn.metrics import roc_auc_score\n",
    "\n",
    "# y_pred is an array of predicted probabilities (e.g., output of predict_proba())\n",
    "# y_test is an array of true labels (0 or 1)\n",
    "auc = roc_auc_score(y_test, y_pred)\n",
    "\n",
    "print('AUC:', auc)"
   ]
  },
  {
   "cell_type": "code",
   "execution_count": 21,
   "metadata": {},
   "outputs": [
    {
     "name": "stderr",
     "output_type": "stream",
     "text": [
      "WARNING:absl:Found untraced functions such as _jit_compiled_convolution_op, _jit_compiled_convolution_op, _jit_compiled_convolution_op, _update_step_xla while saving (showing 4 of 4). These functions will not be directly callable after loading.\n"
     ]
    },
    {
     "name": "stdout",
     "output_type": "stream",
     "text": [
      "INFO:tensorflow:Assets written to: CD_CNN_filtered/assets\n"
     ]
    },
    {
     "name": "stderr",
     "output_type": "stream",
     "text": [
      "INFO:tensorflow:Assets written to: CD_CNN_filtered/assets\n"
     ]
    }
   ],
   "source": [
    "#save model\n",
    "save_model(model, 'CD_CNN_filtered')"
   ]
  },
  {
   "cell_type": "code",
   "execution_count": null,
   "metadata": {},
   "outputs": [],
   "source": [
    "from keras.utils import plot_model\n",
    "\n",
    "plot_model(model, to_file='model.png', show_shapes=True)"
   ]
  },
  {
   "cell_type": "code",
   "execution_count": null,
   "metadata": {},
   "outputs": [],
   "source": [
    "from ecgdetectors import Detectors\n",
    "\n",
    "test = X_downsampled\n",
    "\n",
    "detectors = Detectors(500)\n",
    "\n",
    "results = []\n",
    "for i in range(test.shape[0]):\n",
    "    row_results = []\n",
    "    for j in range(test.shape[2]):\n",
    "        input = test[i,:,j]\n",
    "        hrv = np.diff(detectors.pan_tompkins_detector(input))\n",
    "        #average interval\n",
    "        avg_interval = np.mean(hrv)\n",
    "        #standard devation interval\n",
    "        std_interval = np.std(hrv)\n",
    "        #find percentage difference that are greater than 50ms\n",
    "        hrv_diff = np.diff(hrv)\n",
    "        over50ms = 0\n",
    "        for diff in range(len(hrv_diff)):\n",
    "            if abs(hrv_diff[diff])>25:\n",
    "                over50ms += 1\n",
    "        if len(hrv_diff)>0:\n",
    "            percent_over_50 = over50ms/len(hrv_diff)\n",
    "        else:\n",
    "            percent_over_50 = 999\n",
    "\n",
    "        \n",
    "        row_results.append(avg_interval)\n",
    "        row_results.append(std_interval)\n",
    "        row_results.append(percent_over_50)\n",
    "    results.append(row_results)\n",
    "\n",
    "columns = []\n",
    "for j in range(test.shape[2]):\n",
    "    columns.append('waveform_{}_avg_int'.format(j+1))\n",
    "    columns.append('waveform_{}_std_int'.format(j+1))\n",
    "    columns.append('waveform_{}_diff_over_50ms'.format(j+1))\n",
    "df = pd.DataFrame(results, columns=columns)"
   ]
  },
  {
   "cell_type": "code",
   "execution_count": null,
   "metadata": {},
   "outputs": [],
   "source": [
    "y_downsampled = y_downsampled.reset_index(drop=True)\n",
    "print(y_downsampled)"
   ]
  },
  {
   "cell_type": "code",
   "execution_count": null,
   "metadata": {},
   "outputs": [],
   "source": [
    "df['target'] = y_downsampled\n",
    "print(df.shape)\n",
    "df.head(30)"
   ]
  },
  {
   "cell_type": "code",
   "execution_count": null,
   "metadata": {},
   "outputs": [],
   "source": [
    "from pycaret.classification import *\n",
    "mi_clf = setup(data = df, target='target')"
   ]
  },
  {
   "cell_type": "code",
   "execution_count": null,
   "metadata": {},
   "outputs": [],
   "source": [
    "compare_models()"
   ]
  },
  {
   "cell_type": "code",
   "execution_count": null,
   "metadata": {},
   "outputs": [],
   "source": []
  },
  {
   "cell_type": "code",
   "execution_count": null,
   "metadata": {},
   "outputs": [],
   "source": []
  },
  {
   "cell_type": "code",
   "execution_count": null,
   "metadata": {},
   "outputs": [],
   "source": []
  }
 ],
 "metadata": {
  "kernelspec": {
   "display_name": "project",
   "language": "python",
   "name": "python3"
  },
  "language_info": {
   "codemirror_mode": {
    "name": "ipython",
    "version": 3
   },
   "file_extension": ".py",
   "mimetype": "text/x-python",
   "name": "python",
   "nbconvert_exporter": "python",
   "pygments_lexer": "ipython3",
   "version": "3.9.16"
  },
  "orig_nbformat": 4,
  "vscode": {
   "interpreter": {
    "hash": "80d9a1379de2d41fa2b295741608ca4702c97a773ae3bbb91264b0defe5b51d0"
   }
  }
 },
 "nbformat": 4,
 "nbformat_minor": 2
}
